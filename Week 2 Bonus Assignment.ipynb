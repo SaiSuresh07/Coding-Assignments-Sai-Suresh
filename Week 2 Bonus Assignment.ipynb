{
 "cells": [
  {
   "cell_type": "markdown",
   "metadata": {},
   "source": [
    "# Week 2 Practice Bonus Assignment Solution (30 Marks)\n",
    "**Please upload your work onto Github and submit a link to your Github repository on Google Classroom.**"
   ]
  },
  {
   "cell_type": "markdown",
   "metadata": {},
   "source": [
    "## Student Details\n",
    "\n",
    "- **Name:** Sai Suresh\n",
    "- **Division:** A \n",
    "- **Roll Number:** 48\n",
    "- **How many hours did it take you to complete this assignment?** 4 hours\n",
    "- **Any other comments?**"
   ]
  },
  {
   "cell_type": "markdown",
   "metadata": {},
   "source": [
    "**This assignment will cover the following concepts taught in class:**\n",
    "\n",
    "- Lists / 5 marks\n",
    "- Dictionaries / 5 marks\n",
    "- String Functions / 5 marks\n",
    "- Functions / 15 marks"
   ]
  },
  {
   "cell_type": "markdown",
   "metadata": {},
   "source": [
    "## Lists (5 Marks)"
   ]
  },
  {
   "cell_type": "code",
   "execution_count": 47,
   "metadata": {},
   "outputs": [
    {
     "data": {
      "text/plain": [
       "['lemonade', 'coke cola']"
      ]
     },
     "execution_count": 47,
     "metadata": {},
     "output_type": "execute_result"
    }
   ],
   "source": [
    "# Q1 Create a list that contains 2 of your favorite soft drinks and print this list\n",
    "favorite_drink = [\"lemonade\", \"coke cola\"]\n",
    "favorite_drink"
   ]
  },
  {
   "cell_type": "code",
   "execution_count": 48,
   "metadata": {},
   "outputs": [
    {
     "data": {
      "text/plain": [
       "['lemonade', 'coke cola', 'pepsi', 'ginger ale', 'mountain dew']"
      ]
     },
     "execution_count": 48,
     "metadata": {},
     "output_type": "execute_result"
    }
   ],
   "source": [
    "# Q2 Add 3 more drinks to this list and print this list\n",
    "favorite_drink.append(\"pepsi\")\n",
    "favorite_drink.append(\"ginger ale\")\n",
    "favorite_drink.append(\"mountain dew\")\n",
    "favorite_drink"
   ]
  },
  {
   "cell_type": "code",
   "execution_count": 49,
   "metadata": {},
   "outputs": [
    {
     "data": {
      "text/plain": [
       "5"
      ]
     },
     "execution_count": 49,
     "metadata": {},
     "output_type": "execute_result"
    }
   ],
   "source": [
    "# Q3 Create and Print a variable that stores the number of values your list of favorite soft drinks has\n",
    "number_of_favorite_drinks = len(favorite_drink)\n",
    "number_of_favorite_drinks"
   ]
  },
  {
   "cell_type": "code",
   "execution_count": 50,
   "metadata": {},
   "outputs": [
    {
     "data": {
      "text/plain": [
       "'ginger ale'"
      ]
     },
     "execution_count": 50,
     "metadata": {},
     "output_type": "execute_result"
    }
   ],
   "source": [
    "# Q4 Print the second last value in your list of favorite soft drinks\n",
    "favorite_drink[3]\n"
   ]
  },
  {
   "cell_type": "code",
   "execution_count": 51,
   "metadata": {},
   "outputs": [
    {
     "data": {
      "text/plain": [
       "'ginger ale'"
      ]
     },
     "execution_count": 51,
     "metadata": {},
     "output_type": "execute_result"
    }
   ],
   "source": [
    "# Q4 Alternate Answer\n",
    "favorite_drink[-2]"
   ]
  },
  {
   "cell_type": "code",
   "execution_count": 52,
   "metadata": {},
   "outputs": [
    {
     "data": {
      "text/plain": [
       "['lemonade', 'Big Cola', 'pepsi', 'ginger ale', 'mountain dew']"
      ]
     },
     "execution_count": 52,
     "metadata": {},
     "output_type": "execute_result"
    }
   ],
   "source": [
    "# Q5 Change the value of the second index to \"Big Cola\" and print your list of favorite soft drinks\n",
    "favorite_drink[1] = \"Big Cola\"\n",
    "favorite_drink"
   ]
  },
  {
   "cell_type": "markdown",
   "metadata": {},
   "source": [
    "## Dictionaries (5 Marks)"
   ]
  },
  {
   "cell_type": "code",
   "execution_count": 26,
   "metadata": {},
   "outputs": [
    {
     "data": {
      "text/plain": [
       "{'Movies': ['Shutter Island', 'Inception', 'Seven'],\n",
       " 'Foods': ['Pizza', 'Sushi', 'Biryani']}"
      ]
     },
     "execution_count": 26,
     "metadata": {},
     "output_type": "execute_result"
    }
   ],
   "source": [
    "# Q1 Create and print a dictionary called \"my favorites\" that that contains 2 keys that represent \n",
    "# lists of your favorite movies and favorite foods\n",
    "my_favorites = {\"Movies\":[\"Shutter Island\", \"Inception\",\"Seven\"],\n",
    "               \"Foods\":[\"Pizza\",\"Sushi\",\"Biryani\"] }\n",
    "my_favorites"
   ]
  },
  {
   "cell_type": "code",
   "execution_count": 28,
   "metadata": {},
   "outputs": [
    {
     "data": {
      "text/plain": [
       "{'Movies': ['Shutter Island', 'Inception', 'Seven'],\n",
       " 'Foods': ['Pizza', 'Sushi', 'Biryani'],\n",
       " 'Drinks': ['Pepsi', 'Mountain Dew']}"
      ]
     },
     "execution_count": 28,
     "metadata": {},
     "output_type": "execute_result"
    }
   ],
   "source": [
    "# Q2 Add another key called \"Drinks\" to the \"my_favorites\" dictionary that is a list of your favorite drinks. \n",
    "my_favorites[\"Drinks\"] = [\"Pepsi\",\"Mountain Dew\"]\n",
    "\n",
    "# Please print your \"my_favorites\" dictionary after\n",
    "my_favorites"
   ]
  },
  {
   "cell_type": "code",
   "execution_count": 31,
   "metadata": {},
   "outputs": [
    {
     "name": "stdout",
     "output_type": "stream",
     "text": [
      "{'Movies': ['Shutter Island', 'Inception', 'Seven'], 'Foods': ['Pizza', 'Sushi', 'Biryani', 'dumplings'], 'Drinks': ['Pepsi', 'Mountain Dew']}\n"
     ]
    }
   ],
   "source": [
    "# Q3 Add another favorite food to list of favorite foods list in the \"my_favorites\" dictionary\n",
    "my_favorites[\"Foods\"].append(\"dumplings\")\n",
    "\n",
    "# Please print your \"my_favorite\" dictionary\n",
    "print (my_favorites)"
   ]
  },
  {
   "cell_type": "code",
   "execution_count": 33,
   "metadata": {},
   "outputs": [
    {
     "name": "stdout",
     "output_type": "stream",
     "text": [
      "['Shutter Island', 'Inception', 'Seven']\n"
     ]
    }
   ],
   "source": [
    "# Q4 Print the value for your favorite movies from the \"my_favorites\" dictionary\n",
    "print (my_favorites[\"Movies\"])"
   ]
  },
  {
   "cell_type": "code",
   "execution_count": 34,
   "metadata": {},
   "outputs": [
    {
     "name": "stdout",
     "output_type": "stream",
     "text": [
      "3\n"
     ]
    }
   ],
   "source": [
    "# Q5A Print the total keys in your \"my_favorites\" dictionary \n",
    "print (len(my_favorites))"
   ]
  },
  {
   "cell_type": "code",
   "execution_count": 37,
   "metadata": {},
   "outputs": [
    {
     "ename": "NameError",
     "evalue": "name 'keys' is not defined",
     "output_type": "error",
     "traceback": [
      "\u001b[1;31m---------------------------------------------------------------------------\u001b[0m",
      "\u001b[1;31mNameError\u001b[0m                                 Traceback (most recent call last)",
      "\u001b[1;32m<ipython-input-37-18d33560a38e>\u001b[0m in \u001b[0;36m<module>\u001b[1;34m\u001b[0m\n\u001b[0;32m      1\u001b[0m \u001b[1;31m# Q5B Print the total values for each key in your \"my_favorites\" dictionary\u001b[0m\u001b[1;33m\u001b[0m\u001b[1;33m\u001b[0m\u001b[1;33m\u001b[0m\u001b[0m\n\u001b[0;32m      2\u001b[0m \u001b[1;32mfor\u001b[0m \u001b[0mkey\u001b[0m \u001b[1;32min\u001b[0m \u001b[0mmy_favorites\u001b[0m\u001b[1;33m:\u001b[0m\u001b[1;33m\u001b[0m\u001b[1;33m\u001b[0m\u001b[0m\n\u001b[1;32m----> 3\u001b[1;33m     \u001b[0mprint\u001b[0m\u001b[1;33m(\u001b[0m\u001b[0mkey\u001b[0m\u001b[1;33m,\u001b[0m\u001b[1;34m\":\"\u001b[0m\u001b[1;33m,\u001b[0m\u001b[0mlen\u001b[0m\u001b[1;33m(\u001b[0m\u001b[0mmy_favorites\u001b[0m\u001b[1;33m[\u001b[0m\u001b[0mkeys\u001b[0m\u001b[1;33m]\u001b[0m\u001b[1;33m)\u001b[0m\u001b[1;33m)\u001b[0m\u001b[1;33m\u001b[0m\u001b[1;33m\u001b[0m\u001b[0m\n\u001b[0m",
      "\u001b[1;31mNameError\u001b[0m: name 'keys' is not defined"
     ]
    }
   ],
   "source": [
    "# Q5B Print the total values for each key in your \"my_favorites\" dictionary\n",
    "for key in my_favorites:\n",
    "    print(key,\":\",len(my_favorites[keys]))"
   ]
  },
  {
   "cell_type": "markdown",
   "metadata": {},
   "source": [
    "## String Functions (5 Marks) \n",
    "\n",
    "[Reference Library](https://www.w3schools.com/python/ref_string_replace.asp)"
   ]
  },
  {
   "cell_type": "code",
   "execution_count": 67,
   "metadata": {},
   "outputs": [
    {
     "name": "stdout",
     "output_type": "stream",
     "text": [
      "jwndnwdnqlkwdq\n"
     ]
    }
   ],
   "source": [
    "# Q1 Create a string called \"random_characters\" and enter random characters into it (e.g \"sadasdsa\"). \n",
    "random_characters = \"jwndnwdnqlkwdq\"\n",
    "\n",
    "# Print if all characters in random_characters are lowercase\n",
    "if random_characters == random_characters.lower():\n",
    "    print(random_characters)\n",
    "else:\n",
    "    print(\"All characters are not lowercase\")"
   ]
  },
  {
   "cell_type": "code",
   "execution_count": 68,
   "metadata": {},
   "outputs": [
    {
     "data": {
      "text/plain": [
       "'hellowndnwdnqlkwdq'"
      ]
     },
     "execution_count": 68,
     "metadata": {},
     "output_type": "execute_result"
    }
   ],
   "source": [
    "# Q2 Replace any one character in \"random_characters\" with \"hello\". Print the result \n",
    "random_characters = random_characters.replace(\"j\",\"hello\")\n",
    "random_characters"
   ]
  },
  {
   "cell_type": "code",
   "execution_count": 70,
   "metadata": {},
   "outputs": [
    {
     "data": {
      "text/plain": [
       "'HELLOWNDNWDNQLKWDQ'"
      ]
     },
     "execution_count": 70,
     "metadata": {},
     "output_type": "execute_result"
    }
   ],
   "source": [
    "# Q3 Convert \"random_characters\" to all upper case letters\n",
    "random_characters = random_characters.upper()\n",
    "random_characters"
   ]
  },
  {
   "cell_type": "code",
   "execution_count": 45,
   "metadata": {},
   "outputs": [
    {
     "data": {
      "text/plain": [
       "['Hum Tum', 'Kal Ho Na Ho', 'Dhoom 2']"
      ]
     },
     "execution_count": 45,
     "metadata": {},
     "output_type": "execute_result"
    }
   ],
   "source": [
    "# Q4 \n",
    "# Create a string called \"my_favorite_movies\" with the following value: \"Hum Tum, Kal Ho Na Ho, Dhoom 2\". \n",
    "my_favorite_movies = \"Hum Tum, Kal Ho Na Ho, Dhoom 2\"\n",
    "\n",
    "# Now convert \"my_favorite_movies\" into a list structured like this [\"Hum Tum\", \"Kal Ho Na Ho\", \"Dhoom 2\"]\n",
    "my_favorite_movies = my_favorite_movies.split(\", \")\n",
    "\n",
    "# Print \"my_favorite_movies\"\n",
    "my_favorite_movies"
   ]
  },
  {
   "cell_type": "markdown",
   "metadata": {},
   "source": [
    "## Functions (15 Marks / 3 marks for each question)\n",
    "**PLEASE NOTE THIS IS A BONUS POINT ASSIGNMENT. NOT ALL QUESTIONS ARE GOING TO BE EASY. IT'S CALLED BONUS FOR A REASON.** Please refer to the [Textbook](info370a-w19.github.io/python-basics/)"
   ]
  },
  {
   "cell_type": "markdown",
   "metadata": {},
   "source": [
    "### Q1) Create a function called is_greater that: \n",
    "- Accepts 2 numbers\n",
    "- Returns a boolean value that indicates if variable 1 is greater than variable 2\n",
    "- Please create and print a variable that uses this function"
   ]
  },
  {
   "cell_type": "code",
   "execution_count": 93,
   "metadata": {},
   "outputs": [],
   "source": [
    "# Write your function here\n",
    "def is_greater(number1,number2):\n",
    "    if number1 > number2:\n",
    "        return(\"True\")\n",
    "    else:\n",
    "        return\n"
   ]
  },
  {
   "cell_type": "code",
   "execution_count": 94,
   "metadata": {},
   "outputs": [
    {
     "data": {
      "text/plain": [
       "'True'"
      ]
     },
     "execution_count": 94,
     "metadata": {},
     "output_type": "execute_result"
    }
   ],
   "source": [
    "# Create and print a variable that uses this function\n",
    "is_greater(12,10)"
   ]
  },
  {
   "cell_type": "markdown",
   "metadata": {},
   "source": [
    "### Q2) Create a function total_list_length\n",
    "- Accepts 2 lists\n",
    "- Calculate the length of each of the two lists\n",
    "- Returns the length of the combined lists\n",
    "- Please create and print a variable that uses this function"
   ]
  },
  {
   "cell_type": "code",
   "execution_count": 97,
   "metadata": {},
   "outputs": [],
   "source": [
    "# Write your function here\n",
    "def total_list_length(list1,list2):\n",
    "    return len(list1)+len(list2)"
   ]
  },
  {
   "cell_type": "code",
   "execution_count": 99,
   "metadata": {},
   "outputs": [
    {
     "data": {
      "text/plain": [
       "6"
      ]
     },
     "execution_count": 99,
     "metadata": {},
     "output_type": "execute_result"
    }
   ],
   "source": [
    "# Create and print a variable that uses this function\n",
    "foods = [\"Pav Bhaji\", \"Butter Chicken\", \"Pizza\"]\n",
    "drinks = [\"Apple Juice\", \"Watermelon Juice\",\"Orange Juice\"]\n",
    "total_list_length(foods,drinks)"
   ]
  },
  {
   "cell_type": "markdown",
   "metadata": {},
   "source": [
    "### Q3) Create a function called contains_titanic that: \n",
    "- Accepts a list of movies \n",
    "- Returns \"Titanic exists\" If it is present in the list \n",
    "- Returns \"Titanic Does not exist\"if it is not present in the list\n",
    "- Please create and print a variable that uses this function"
   ]
  },
  {
   "cell_type": "code",
   "execution_count": 9,
   "metadata": {},
   "outputs": [],
   "source": [
    "# Write your function here\n",
    "def contains_titanic(movies):\n",
    "    for movie in movies_list:\n",
    "        if movies == \"Titanic\":\n",
    "            return(\"Titanic exists\")\n",
    "        \n",
    "        return(\"Titanic Does not exist\")"
   ]
  },
  {
   "cell_type": "code",
   "execution_count": 10,
   "metadata": {},
   "outputs": [
    {
     "data": {
      "text/plain": [
       "'Titanic Does not exist'"
      ]
     },
     "execution_count": 10,
     "metadata": {},
     "output_type": "execute_result"
    }
   ],
   "source": [
    "# Create and print a variable that uses this function\n",
    "movies_list = [\"Titanic\",\"Dhoom 2\", \"Hum Tum\"]\n",
    "contains_titanic(movies_list)"
   ]
  },
  {
   "cell_type": "markdown",
   "metadata": {},
   "source": [
    "### Q4) Create a function called list_average that: \n",
    "\n",
    "- Accepts a list of numbers\n",
    "- Returns the average of the list of numbers\n",
    "- Please create and print a variable that uses this function"
   ]
  },
  {
   "cell_type": "code",
   "execution_count": 113,
   "metadata": {},
   "outputs": [],
   "source": [
    "# Write your function here\n",
    "def list_average(numbers):\n",
    "    average = sum(numbers)/len(numbers)\n",
    "    return average"
   ]
  },
  {
   "cell_type": "code",
   "execution_count": 114,
   "metadata": {},
   "outputs": [
    {
     "data": {
      "text/plain": [
       "65.0"
      ]
     },
     "execution_count": 114,
     "metadata": {},
     "output_type": "execute_result"
    }
   ],
   "source": [
    "# Create and print a variable that uses this function\n",
    "list1 = [50,60,70,80]\n",
    "list_average(list1)"
   ]
  },
  {
   "cell_type": "markdown",
   "metadata": {},
   "source": [
    "### Q5) Create a function called longest_word_in_list that:\n",
    "- Accepts a list of words\n",
    "- Returns the longest string in the list\n",
    "- Please create and print a variable that uses this function"
   ]
  },
  {
   "cell_type": "code",
   "execution_count": 41,
   "metadata": {},
   "outputs": [],
   "source": [
    "# Write your function here\n",
    "def longest_word_in_list(words):\n",
    "    \n",
    "    max_length = 0\n",
    "    longest_word = \"\"\n",
    "    \n",
    "    for word in words:\n",
    "        length_of_current_word = len(word)\n",
    "        if(length_of_current_word > max_length):\n",
    "            max_length = length_of_current_word\n",
    "            longest_word = word\n",
    "\n",
    "    return word\n",
    "    \n"
   ]
  },
  {
   "cell_type": "code",
   "execution_count": 43,
   "metadata": {},
   "outputs": [
    {
     "name": "stdout",
     "output_type": "stream",
     "text": [
      "ccjsddcjs\n"
     ]
    }
   ],
   "source": [
    "# Create and print a variable that uses this function\n",
    "words = [\"wdccsd\", \"wcasddcc\", \"ccjsddcjs\"]\n",
    "longest_word_in_words = longest_word_in_list(words)\n",
    "print(longest_word_in_words)"
   ]
  },
  {
   "cell_type": "code",
   "execution_count": null,
   "metadata": {},
   "outputs": [],
   "source": []
  }
 ],
 "metadata": {
  "kernelspec": {
   "display_name": "Python 3",
   "language": "python",
   "name": "python3"
  },
  "language_info": {
   "codemirror_mode": {
    "name": "ipython",
    "version": 3
   },
   "file_extension": ".py",
   "mimetype": "text/x-python",
   "name": "python",
   "nbconvert_exporter": "python",
   "pygments_lexer": "ipython3",
   "version": "3.8.8"
  }
 },
 "nbformat": 4,
 "nbformat_minor": 2
}
