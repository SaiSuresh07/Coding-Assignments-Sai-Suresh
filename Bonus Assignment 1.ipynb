{
 "cells": [
  {
   "cell_type": "markdown",
   "id": "5b20af98",
   "metadata": {},
   "source": [
    "# Practice your variables!\n",
    "Course: BBA 108-Essentials of Computing & Coding\n",
    "\n",
    "Submission date: Sunday (19/09/21), 11:59 p.m.\n",
    "\n",
    "Hey everyone! This is a practice bonus assignment worth 10 points. I **highly** encourage all of you to do this.\n",
    "\n",
    "Please contact the following **on Slack** if there are any questions or issues:\n",
    "\n",
    "- @Shourya Watwani \n",
    "- @Vanshika Raj \n",
    "- @Aryan Gupta \n",
    "\n",
    "Thank you! Happy coding :)\n"
   ]
  },
  {
   "cell_type": "code",
   "execution_count": 1,
   "id": "d7643d51",
   "metadata": {},
   "outputs": [
    {
     "data": {
      "text/plain": [
       "'Sai Suresh'"
      ]
     },
     "execution_count": 1,
     "metadata": {},
     "output_type": "execute_result"
    }
   ],
   "source": [
    "# Create and print a variable to tell us your name.\n",
    "my_name = \"Sai Suresh\"\n",
    "my_name"
   ]
  },
  {
   "cell_type": "code",
   "execution_count": 3,
   "id": "a48e84de",
   "metadata": {},
   "outputs": [
    {
     "data": {
      "text/plain": [
       "20"
      ]
     },
     "execution_count": 3,
     "metadata": {},
     "output_type": "execute_result"
    }
   ],
   "source": [
    "# Create and print a variable to tell us your age.\n",
    "my_age = 20\n",
    "my_age"
   ]
  },
  {
   "cell_type": "code",
   "execution_count": 9,
   "id": "fb242ec5",
   "metadata": {},
   "outputs": [
    {
     "data": {
      "text/plain": [
       "7"
      ]
     },
     "execution_count": 9,
     "metadata": {},
     "output_type": "execute_result"
    }
   ],
   "source": [
    "# Create and print a variable to tell us how many times you've taken a trip within India.\n",
    "trip_within_india = 7\n",
    "trip_within_india"
   ]
  },
  {
   "cell_type": "code",
   "execution_count": 10,
   "id": "ac849402",
   "metadata": {},
   "outputs": [
    {
     "data": {
      "text/plain": [
       "8"
      ]
     },
     "execution_count": 10,
     "metadata": {},
     "output_type": "execute_result"
    }
   ],
   "source": [
    "# Create and print a variable to tell us how many times you've taken a trip outside India.\n",
    "trip_outside_india = 8\n",
    "trip_outside_india"
   ]
  },
  {
   "cell_type": "code",
   "execution_count": 11,
   "id": "bf7668ee",
   "metadata": {},
   "outputs": [
    {
     "data": {
      "text/plain": [
       "'15'"
      ]
     },
     "execution_count": 11,
     "metadata": {},
     "output_type": "execute_result"
    }
   ],
   "source": [
    "# Create and print a variable to calculate the total number of trips you've taken.\n",
    "total_trips = str(trip_within_india+trip_outside_india)\n",
    "total_trips"
   ]
  },
  {
   "cell_type": "code",
   "execution_count": 20,
   "id": "52224f94",
   "metadata": {},
   "outputs": [
    {
     "data": {
      "text/plain": [
       "'the total number of trips I have taken are 15'"
      ]
     },
     "execution_count": 20,
     "metadata": {},
     "output_type": "execute_result"
    }
   ],
   "source": [
    "# Create and print a variable to tell us total number of trips you've taken, using the numeric value in a sentence.\n",
    "number_of_trips =\"the total number of trips I have taken are \" + total_trips\n",
    "number_of_trips"
   ]
  },
  {
   "cell_type": "code",
   "execution_count": 22,
   "id": "612c68f3",
   "metadata": {},
   "outputs": [
    {
     "data": {
      "text/plain": [
       "False"
      ]
     },
     "execution_count": 22,
     "metadata": {},
     "output_type": "execute_result"
    }
   ],
   "source": [
    "# Create and print a variable to tell us whether the statement-\n",
    "# -\"I have taken more trips within India than outside India\" is true or false using boolean variables.\n",
    "true_false = trip_within_india > trip_outside_india\n",
    "true_false"
   ]
  },
  {
   "cell_type": "code",
   "execution_count": 23,
   "id": "aaee2c68",
   "metadata": {},
   "outputs": [
    {
     "data": {
      "text/plain": [
       "'11.666666666666666'"
      ]
     },
     "execution_count": 23,
     "metadata": {},
     "output_type": "execute_result"
    }
   ],
   "source": [
    "# Create and print a variable to calculate the average number of trips you've taken in a year using-\n",
    "# your total number of trips and your age.\n",
    "average_trips = str((my_age + trip_within_india + trip_outside_india)/3)\n",
    "average_trips"
   ]
  },
  {
   "cell_type": "code",
   "execution_count": 24,
   "id": "810f16f4",
   "metadata": {},
   "outputs": [
    {
     "data": {
      "text/plain": [
       "'the average number of trips I have taken are 7.5'"
      ]
     },
     "execution_count": 24,
     "metadata": {},
     "output_type": "execute_result"
    }
   ],
   "source": [
    "# Create and print a variable to tell us average number of trips you've taken, using the numeric value in a sentence.\n",
    "average_trips = \"the average number of trips I have taken are \" + str((trip_within_india + trip_outside_india)/2)\n",
    "average_trips"
   ]
  },
  {
   "cell_type": "code",
   "execution_count": null,
   "id": "ea0fde83",
   "metadata": {},
   "outputs": [],
   "source": []
  }
 ],
 "metadata": {
  "kernelspec": {
   "display_name": "Python 3",
   "language": "python",
   "name": "python3"
  },
  "language_info": {
   "codemirror_mode": {
    "name": "ipython",
    "version": 3
   },
   "file_extension": ".py",
   "mimetype": "text/x-python",
   "name": "python",
   "nbconvert_exporter": "python",
   "pygments_lexer": "ipython3",
   "version": "3.8.8"
  }
 },
 "nbformat": 4,
 "nbformat_minor": 5
}
