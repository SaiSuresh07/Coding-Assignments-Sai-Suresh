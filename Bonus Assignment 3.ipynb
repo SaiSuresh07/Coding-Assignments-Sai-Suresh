{
 "cells": [
  {
   "cell_type": "markdown",
   "id": "324f16d6",
   "metadata": {},
   "source": [
    "# Bonus Assignment 3: For Loops and Lists\n",
    "\n",
    "- Student Name: \n",
    "- Division: \n",
    "- Roll Number: "
   ]
  },
  {
   "cell_type": "markdown",
   "id": "b07c8a7a",
   "metadata": {},
   "source": [
    "# For Loops"
   ]
  },
  {
   "cell_type": "markdown",
   "id": "fa6ebbf9",
   "metadata": {},
   "source": [
    "# Q1) Create a function called emoji_grader that accepts a list of grades and prints emojis based on the following grading scheme: \n",
    "- 100: 😱😱😱😱😱😱\n",
    "- 90 to 99: 🔥🔥🔥🔥🔥\n",
    "- 70 to 89: 🎉🎉🎉🎉🎉\n",
    "- 60 to 69: 😐😐😐😐😐\n",
    "- 35 to 59: 👀\n",
    "- 1 to 35: 👀👀👀👀👀\n",
    "- 0: 💀💀💀💀💀"
   ]
  },
  {
   "cell_type": "code",
   "execution_count": 3,
   "id": "a7b0caf0",
   "metadata": {},
   "outputs": [],
   "source": [
    "def emoji_grader(grades):\n",
    "    for grade in grades:\n",
    "        if grade == 100:\n",
    "            print(\"😱😱😱😱😱😱\")\n",
    "        elif grade >= 90 and grade < 100:\n",
    "             print(\"🔥🔥🔥🔥🔥\")\n",
    "        elif grade >= 70 and grade <= 89:\n",
    "             print(\"🎉🎉🎉🎉🎉\")\n",
    "        elif grade >= 60 and grade <= 69:\n",
    "             print(\"😐😐😐😐😐\")\n",
    "        elif grade >= 35 and grade <= 59:\n",
    "             print(\"👀\")\n",
    "        elif grade >= 1 and grade <= 35:\n",
    "             print(\"👀👀👀👀👀\")\n",
    "        else:\n",
    "            print(\"💀💀💀💀💀\")"
   ]
  },
  {
   "cell_type": "code",
   "execution_count": 4,
   "id": "b4e01a9f",
   "metadata": {},
   "outputs": [
    {
     "name": "stdout",
     "output_type": "stream",
     "text": [
      "💀💀💀💀💀\n",
      "👀👀👀👀👀\n",
      "👀👀👀👀👀\n",
      "👀👀👀👀👀\n",
      "👀\n",
      "👀\n",
      "😐😐😐😐😐\n",
      "🎉🎉🎉🎉🎉\n",
      "😱😱😱😱😱😱\n"
     ]
    }
   ],
   "source": [
    "grades = [0,10,25,30,43,51,60,79,100]\n",
    "emoji_grader(grades)"
   ]
  },
  {
   "cell_type": "markdown",
   "id": "bac1f93e",
   "metadata": {},
   "source": [
    "## Q2) Create a function called square_printer that accepts a list of numbers and prints the square of each number in the list. Test your function with two lists. (5 Marks): \n",
    "\n",
    "**Here is an example of what the output would look like for the following list [2,4,5]**\n",
    "\n",
    "Current Number is 2  and the Square is 4\n",
    "\n",
    "Current Number is 4  and the Square is 16\n",
    "\n",
    "Current Number is 5  and the Square is 25"
   ]
  },
  {
   "cell_type": "code",
   "execution_count": 11,
   "id": "21d996c3",
   "metadata": {},
   "outputs": [],
   "source": [
    "def square_printer(numbers):\n",
    "    for number in numbers:\n",
    "        square = number*number\n",
    "        print(\"Current Number is \", number, \"and the square is\", square)"
   ]
  },
  {
   "cell_type": "code",
   "execution_count": 12,
   "id": "db25e30a",
   "metadata": {},
   "outputs": [],
   "source": [
    "numbers = [3,10,36,45,1245]"
   ]
  },
  {
   "cell_type": "code",
   "execution_count": 13,
   "id": "984755b4",
   "metadata": {},
   "outputs": [
    {
     "name": "stdout",
     "output_type": "stream",
     "text": [
      "Current Number is  3 and the square is 9\n",
      "Current Number is  10 and the square is 100\n",
      "Current Number is  36 and the square is 1296\n",
      "Current Number is  45 and the square is 2025\n",
      "Current Number is  1245 and the square is 1550025\n"
     ]
    }
   ],
   "source": [
    "square_printer(numbers)"
   ]
  },
  {
   "cell_type": "markdown",
   "id": "c3fdc03e",
   "metadata": {},
   "source": [
    "# Q3) Create a function called vowel_count_printer that (10 Marks): \n",
    "\n",
    "\n",
    "- Accepts a sentence \n",
    "- Prints the total vowels (\"a\", \"e\", \"i', \"o\", \"u\") for each word in the sentence\n",
    "- Ensure your function is not case sensitve\n",
    "\n",
    "**For example, the sentence \"Hello, I am Zoshua Colah\" should print the following:**\n",
    "\n",
    "Current Word is: Hello and the Total Vowels in the Word are 2\n",
    "\n",
    "Current Word is: I and the Total Vowels in the Word are 1\n",
    "\n",
    "Current Word is: am and the Total Vowels in the Word are 1\n",
    "\n",
    "Current Word is: Zoshua and the Total Vowels in the Word are 3\n",
    "\n",
    "Current Word is: Colah and the Total Vowels in the Word are 2"
   ]
  },
  {
   "cell_type": "code",
   "execution_count": 19,
   "id": "3b304654",
   "metadata": {},
   "outputs": [],
   "source": [
    "def vowel_count_print(sentence):\n",
    "    \n",
    "    words = sentence.split(\" \")\n",
    "    \n",
    "    for word in words:\n",
    "        \n",
    "        vowel_count =0\n",
    "        \n",
    "        for letter in words:\n",
    "            if letter.lower() == \"a\" or letter.lower() == \"e\" or letter.lower() == \"i\" or letter.lower() == \"o\" or letter.lower() == \"u\":\n",
    "               vowel_count = vowel_count+1\n",
    "        print(\"Current Word is\", word, \"and the total vowel are: \",vowel_count)"
   ]
  },
  {
   "cell_type": "code",
   "execution_count": 20,
   "id": "c39bdacc",
   "metadata": {},
   "outputs": [
    {
     "name": "stdout",
     "output_type": "stream",
     "text": [
      "Current Word is Hello, and the total vowel are:  1\n",
      "Current Word is I and the total vowel are:  1\n",
      "Current Word is am and the total vowel are:  1\n",
      "Current Word is Sai and the total vowel are:  1\n",
      "Current Word is Suresh and the total vowel are:  1\n"
     ]
    }
   ],
   "source": [
    "vowel_count_print(\"Hello, I am Sai Suresh\")"
   ]
  },
  {
   "cell_type": "code",
   "execution_count": null,
   "id": "9edc91ae",
   "metadata": {},
   "outputs": [],
   "source": []
  }
 ],
 "metadata": {
  "kernelspec": {
   "display_name": "Python 3",
   "language": "python",
   "name": "python3"
  },
  "language_info": {
   "codemirror_mode": {
    "name": "ipython",
    "version": 3
   },
   "file_extension": ".py",
   "mimetype": "text/x-python",
   "name": "python",
   "nbconvert_exporter": "python",
   "pygments_lexer": "ipython3",
   "version": "3.8.8"
  }
 },
 "nbformat": 4,
 "nbformat_minor": 5
}
